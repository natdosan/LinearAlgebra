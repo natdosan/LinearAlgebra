{
 "cells": [
  {
   "cell_type": "code",
   "execution_count": 1,
   "source": [
    "import matplotlib.pyplot as plt\n",
    "import numpy as np\n",
    "from mpl_toolkits.mplot3d import Axes3D\n",
    "import sympy as sy\n",
    "sy.init_printing()"
   ],
   "outputs": [],
   "metadata": {}
  },
  {
   "cell_type": "markdown",
   "source": [],
   "metadata": {}
  },
  {
   "cell_type": "markdown",
   "source": [
    "A set of vectors, {a, b, c, ... z} is linearly independent, if all c's (scalars) are zero. If any c != 0, the set is linearly dependent."
   ],
   "metadata": {}
  },
  {
   "cell_type": "code",
   "execution_count": 2,
   "source": [
    "# example set\n",
    "A = sy.Matrix([[1,4,2,0],\n",
    "               [2,5,1,0],\n",
    "               [3,6,0,0]])\n",
    "A.rref()"
   ],
   "outputs": [
    {
     "output_type": "stream",
     "name": "stderr",
     "text": [
      "/home/nateackerman/.local/lib/python3.8/site-packages/IPython/lib/latextools.py:126: MatplotlibDeprecationWarning: \n",
      "The to_png function was deprecated in Matplotlib 3.4 and will be removed two minor releases later. Use mathtext.math_to_image instead.\n",
      "  mt.to_png(f, s, fontsize=12, dpi=dpi, color=color)\n",
      "/home/nateackerman/.local/lib/python3.8/site-packages/IPython/lib/latextools.py:126: MatplotlibDeprecationWarning: \n",
      "The to_rgba function was deprecated in Matplotlib 3.4 and will be removed two minor releases later. Use mathtext.math_to_image instead.\n",
      "  mt.to_png(f, s, fontsize=12, dpi=dpi, color=color)\n",
      "/home/nateackerman/.local/lib/python3.8/site-packages/IPython/lib/latextools.py:126: MatplotlibDeprecationWarning: \n",
      "The to_mask function was deprecated in Matplotlib 3.4 and will be removed two minor releases later. Use mathtext.math_to_image instead.\n",
      "  mt.to_png(f, s, fontsize=12, dpi=dpi, color=color)\n",
      "/home/nateackerman/.local/lib/python3.8/site-packages/IPython/lib/latextools.py:126: MatplotlibDeprecationWarning: \n",
      "The MathtextBackendBitmap class was deprecated in Matplotlib 3.4 and will be removed two minor releases later. Use mathtext.math_to_image instead.\n",
      "  mt.to_png(f, s, fontsize=12, dpi=dpi, color=color)\n"
     ]
    },
    {
     "output_type": "execute_result",
     "data": {
      "text/plain": [
       "⎛⎡1  0  -2  0⎤        ⎞\n",
       "⎜⎢           ⎥        ⎟\n",
       "⎜⎢0  1  1   0⎥, (0, 1)⎟\n",
       "⎜⎢           ⎥        ⎟\n",
       "⎝⎣0  0  0   0⎦        ⎠"
      ],
      "text/latex": [
       "$\\displaystyle \\left( \\left[\\begin{matrix}1 & 0 & -2 & 0\\\\0 & 1 & 1 & 0\\\\0 & 0 & 0 & 0\\end{matrix}\\right], \\  \\left( 0, \\  1\\right)\\right)$"
      ]
     },
     "metadata": {},
     "execution_count": 2
    }
   ],
   "metadata": {}
  },
  {
   "cell_type": "markdown",
   "source": [
    "Since the solution involves a free variable, xsub3, it could be non-zero, and therefore the set is linearly dependent. "
   ],
   "metadata": {}
  },
  {
   "cell_type": "code",
   "execution_count": 7,
   "source": [
    "# 1.6 #5 a\n",
    "B = sy.Matrix([[3,4,7,5],\n",
    "            [-1,-2,-1,1],\n",
    "            [4,9,2,-8]])\n",
    "B.rref()\n",
    "\n"
   ],
   "outputs": [
    {
     "output_type": "execute_result",
     "data": {
      "text/plain": [
       "⎛⎡1  0  5   7 ⎤        ⎞\n",
       "⎜⎢            ⎥        ⎟\n",
       "⎜⎢0  1  -2  -4⎥, (0, 1)⎟\n",
       "⎜⎢            ⎥        ⎟\n",
       "⎝⎣0  0  0   0 ⎦        ⎠"
      ],
      "text/latex": [
       "$\\displaystyle \\left( \\left[\\begin{matrix}1 & 0 & 5 & 7\\\\0 & 1 & -2 & -4\\\\0 & 0 & 0 & 0\\end{matrix}\\right], \\  \\left( 0, \\  1\\right)\\right)$"
      ]
     },
     "metadata": {},
     "execution_count": 7
    }
   ],
   "metadata": {}
  },
  {
   "cell_type": "code",
   "execution_count": 8,
   "source": [
    "# 1.6 #5 b\n",
    "C = sy.Matrix([[5,8,4,5,13],\n",
    "                [-3,-5,-2,-2,-9],\n",
    "                [6,9,6,9,12]\n",
    "])\n",
    "C.rref()"
   ],
   "outputs": [
    {
     "output_type": "execute_result",
     "data": {
      "text/plain": [
       "⎛⎡1  0  4   9   -7⎤        ⎞\n",
       "⎜⎢                ⎥        ⎟\n",
       "⎜⎢0  1  -2  -5  6 ⎥, (0, 1)⎟\n",
       "⎜⎢                ⎥        ⎟\n",
       "⎝⎣0  0  0   0   0 ⎦        ⎠"
      ],
      "text/latex": [
       "$\\displaystyle \\left( \\left[\\begin{matrix}1 & 0 & 4 & 9 & -7\\\\0 & 1 & -2 & -5 & 6\\\\0 & 0 & 0 & 0 & 0\\end{matrix}\\right], \\  \\left( 0, \\  1\\right)\\right)$"
      ]
     },
     "metadata": {},
     "execution_count": 8
    }
   ],
   "metadata": {}
  },
  {
   "cell_type": "code",
   "execution_count": 10,
   "source": [
    "# 1.6 #5 c\n",
    "D = sy.Matrix([[5,-3,8,-2,-11],\n",
    "                [8,-5,11,5,-8],\n",
    "                [-2,1,-5,9,14],\n",
    "                [4, -2, 7, -6, -13]\n",
    "])\n",
    "D.rref()"
   ],
   "outputs": [
    {
     "output_type": "execute_result",
     "data": {
      "text/plain": [
       "⎛⎡1  0  0  3   4 ⎤           ⎞\n",
       "⎜⎢               ⎥           ⎟\n",
       "⎜⎢0  1  0  -5  -3⎥           ⎟\n",
       "⎜⎢               ⎥, (0, 1, 2)⎟\n",
       "⎜⎢0  0  1  -4  -5⎥           ⎟\n",
       "⎜⎢               ⎥           ⎟\n",
       "⎝⎣0  0  0  0   0 ⎦           ⎠"
      ],
      "text/latex": [
       "$\\displaystyle \\left( \\left[\\begin{matrix}1 & 0 & 0 & 3 & 4\\\\0 & 1 & 0 & -5 & -3\\\\0 & 0 & 1 & -4 & -5\\\\0 & 0 & 0 & 0 & 0\\end{matrix}\\right], \\  \\left( 0, \\  1, \\  2\\right)\\right)$"
      ]
     },
     "metadata": {},
     "execution_count": 10
    }
   ],
   "metadata": {}
  },
  {
   "cell_type": "code",
   "execution_count": 13,
   "source": [
    "# 1.6 #5 d\n",
    "E = sy.Matrix([\n",
    "    [2,-3,-1,-4,2,0],\n",
    "    [-5,6,-5,9,-5,-1],\n",
    "    [1,0,7,-1,1,1],\n",
    "    [3,-4,1,-5,-3,5]\n",
    "])\n",
    "E.rref()"
   ],
   "outputs": [
    {
     "output_type": "execute_result",
     "data": {
      "text/plain": [
       "⎛⎡1  0  7  0  -8  8 ⎤           ⎞\n",
       "⎜⎢                  ⎥           ⎟\n",
       "⎜⎢0  1  5  0  6   -4⎥           ⎟\n",
       "⎜⎢                  ⎥, (0, 1, 3)⎟\n",
       "⎜⎢0  0  0  1  -9  7 ⎥           ⎟\n",
       "⎜⎢                  ⎥           ⎟\n",
       "⎝⎣0  0  0  0  0   0 ⎦           ⎠"
      ],
      "text/latex": [
       "$\\displaystyle \\left( \\left[\\begin{matrix}1 & 0 & 7 & 0 & -8 & 8\\\\0 & 1 & 5 & 0 & 6 & -4\\\\0 & 0 & 0 & 1 & -9 & 7\\\\0 & 0 & 0 & 0 & 0 & 0\\end{matrix}\\right], \\  \\left( 0, \\  1, \\  3\\right)\\right)$"
      ]
     },
     "metadata": {},
     "execution_count": 13
    }
   ],
   "metadata": {}
  },
  {
   "cell_type": "code",
   "execution_count": 16,
   "source": [
    "# 1.6 #5 e\n",
    "F = sy.Matrix([\n",
    "    [1,0,7,3,4,9, -9],\n",
    "    [3,-4,1,1,5,-1,3],\n",
    "    [2,-3,-1,-4,2,6,-7],\n",
    "    [-5,6,-5,2,-7,-8,5]\n",
    "])\n",
    "F.rref()"
   ],
   "outputs": [
    {
     "output_type": "execute_result",
     "data": {
      "text/plain": [
       "⎛⎡1  0  7  0  0  2   3 ⎤              ⎞\n",
       "⎜⎢                     ⎥              ⎟\n",
       "⎜⎢0  1  5  0  0  6   -5⎥              ⎟\n",
       "⎜⎢                     ⎥, (0, 1, 3, 4)⎟\n",
       "⎜⎢0  0  0  1  0  -3  4 ⎥              ⎟\n",
       "⎜⎢                     ⎥              ⎟\n",
       "⎝⎣0  0  0  0  1  4   -6⎦              ⎠"
      ],
      "text/latex": [
       "$\\displaystyle \\left( \\left[\\begin{matrix}1 & 0 & 7 & 0 & 0 & 2 & 3\\\\0 & 1 & 5 & 0 & 0 & 6 & -5\\\\0 & 0 & 0 & 1 & 0 & -3 & 4\\\\0 & 0 & 0 & 0 & 1 & 4 & -6\\end{matrix}\\right], \\  \\left( 0, \\  1, \\  3, \\  4\\right)\\right)$"
      ]
     },
     "metadata": {},
     "execution_count": 16
    }
   ],
   "metadata": {}
  },
  {
   "cell_type": "code",
   "execution_count": 19,
   "source": [
    "# 1.6 #5 f\n",
    "G = sy.Matrix([\n",
    "    [2,-3,-1,-4,2,6,-7],\n",
    "    [-5,6,-5,2,-7,-8,5],\n",
    "    [-4,3,-13,-8,-8,2,-11],\n",
    "    [1,0,7,3,4,9,-9],\n",
    "    [3,-4,1,1,5,-1,3]\n",
    "])\n",
    "G.rref()"
   ],
   "outputs": [
    {
     "output_type": "execute_result",
     "data": {
      "text/plain": [
       "⎛⎡1  0  7  0  0  2   3 ⎤              ⎞\n",
       "⎜⎢                     ⎥              ⎟\n",
       "⎜⎢0  1  5  0  0  6   -5⎥              ⎟\n",
       "⎜⎢                     ⎥              ⎟\n",
       "⎜⎢0  0  0  1  0  -3  4 ⎥, (0, 1, 3, 4)⎟\n",
       "⎜⎢                     ⎥              ⎟\n",
       "⎜⎢0  0  0  0  1  4   -6⎥              ⎟\n",
       "⎜⎢                     ⎥              ⎟\n",
       "⎝⎣0  0  0  0  0  0   0 ⎦              ⎠"
      ],
      "text/latex": [
       "$\\displaystyle \\left( \\left[\\begin{matrix}1 & 0 & 7 & 0 & 0 & 2 & 3\\\\0 & 1 & 5 & 0 & 0 & 6 & -5\\\\0 & 0 & 0 & 1 & 0 & -3 & 4\\\\0 & 0 & 0 & 0 & 1 & 4 & -6\\\\0 & 0 & 0 & 0 & 0 & 0 & 0\\end{matrix}\\right], \\  \\left( 0, \\  1, \\  3, \\  4\\right)\\right)$"
      ]
     },
     "metadata": {},
     "execution_count": 19
    }
   ],
   "metadata": {}
  }
 ],
 "metadata": {
  "orig_nbformat": 4,
  "language_info": {
   "name": "python",
   "version": "3.8.5",
   "mimetype": "text/x-python",
   "codemirror_mode": {
    "name": "ipython",
    "version": 3
   },
   "pygments_lexer": "ipython3",
   "nbconvert_exporter": "python",
   "file_extension": ".py"
  },
  "kernelspec": {
   "name": "python3",
   "display_name": "Python 3.8.5 64-bit"
  },
  "interpreter": {
   "hash": "916dbcbb3f70747c44a77c7bcd40155683ae19c65e1c03b4aa3499c5328201f1"
  }
 },
 "nbformat": 4,
 "nbformat_minor": 2
}
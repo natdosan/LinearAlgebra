{
 "cells": [
  {
   "cell_type": "code",
   "execution_count": 2,
   "source": [
    "import matplotlib.pyplot as plt\n",
    "import numpy as np\n",
    "from mpl_toolkits.mplot3d import Axes3D\n",
    "import sympy as sy\n",
    "sy.init_printing()"
   ],
   "outputs": [],
   "metadata": {}
  },
  {
   "cell_type": "markdown",
   "source": [
    "Using technology to compute rrefs for 2.2 Homework. "
   ],
   "metadata": {}
  },
  {
   "cell_type": "code",
   "execution_count": 8,
   "source": [
    "A = sy.Matrix([[5,-3,6,7],(3,-1, 4, 5), (5, 1, 8, 11), (1, 5, 4, 7)])\n",
    "A.rref()"
   ],
   "outputs": [
    {
     "output_type": "execute_result",
     "data": {
      "text/latex": [
       "$\\displaystyle \\left( \\left[\\begin{matrix}1 & 0 & \\frac{3}{2} & 2\\\\0 & 1 & \\frac{1}{2} & 1\\\\0 & 0 & 0 & 0\\\\0 & 0 & 0 & 0\\end{matrix}\\right], \\  \\left( 0, \\  1\\right)\\right)$"
      ],
      "text/plain": [
       "⎛⎡1  0  3/2  2⎤        ⎞\n",
       "⎜⎢            ⎥        ⎟\n",
       "⎜⎢0  1  1/2  1⎥        ⎟\n",
       "⎜⎢            ⎥, (0, 1)⎟\n",
       "⎜⎢0  0   0   0⎥        ⎟\n",
       "⎜⎢            ⎥        ⎟\n",
       "⎝⎣0  0   0   0⎦        ⎠"
      ]
     },
     "metadata": {},
     "execution_count": 8
    }
   ],
   "metadata": {}
  },
  {
   "cell_type": "markdown",
   "source": [
    "Rank = 2, dim(w) = 2"
   ],
   "metadata": {}
  },
  {
   "cell_type": "code",
   "execution_count": 11,
   "source": [
    "B = sy.Matrix([(5,-3,6, 7),(3,-1,4,5),(7,-9,6,5),(5, 1,8,-3) ])\n",
    "B.rref()"
   ],
   "outputs": [
    {
     "output_type": "execute_result",
     "data": {
      "text/latex": [
       "$\\displaystyle \\left( \\left[\\begin{matrix}1 & 0 & \\frac{3}{2} & 0\\\\0 & 1 & \\frac{1}{2} & 0\\\\0 & 0 & 0 & 1\\\\0 & 0 & 0 & 0\\end{matrix}\\right], \\  \\left( 0, \\  1, \\  3\\right)\\right)$"
      ],
      "text/plain": [
       "⎛⎡1  0  3/2  0⎤           ⎞\n",
       "⎜⎢            ⎥           ⎟\n",
       "⎜⎢0  1  1/2  0⎥           ⎟\n",
       "⎜⎢            ⎥, (0, 1, 3)⎟\n",
       "⎜⎢0  0   0   1⎥           ⎟\n",
       "⎜⎢            ⎥           ⎟\n",
       "⎝⎣0  0   0   0⎦           ⎠"
      ]
     },
     "metadata": {},
     "execution_count": 11
    }
   ],
   "metadata": {}
  },
  {
   "cell_type": "markdown",
   "source": [
    "Rank = 3, dim(w) = 3"
   ],
   "metadata": {}
  },
  {
   "cell_type": "code",
   "execution_count": 16,
   "source": [
    "S= [(5,-3,6, 7),(3,-1,4,5),(7,-5,8,9),(1,3,-1, 1),(1,3,-9,-7)]\n",
    "A = sy.Matrix(S)\n",
    "A.rref()"
   ],
   "outputs": [
    {
     "output_type": "execute_result",
     "data": {
      "text/latex": [
       "$\\displaystyle \\left( \\left[\\begin{matrix}1 & 0 & 0 & \\frac{1}{2}\\\\0 & 1 & 0 & \\frac{1}{2}\\\\0 & 0 & 1 & 1\\\\0 & 0 & 0 & 0\\\\0 & 0 & 0 & 0\\end{matrix}\\right], \\  \\left( 0, \\  1, \\  2\\right)\\right)$"
      ],
      "text/plain": [
       "⎛⎡1  0  0  1/2⎤           ⎞\n",
       "⎜⎢            ⎥           ⎟\n",
       "⎜⎢0  1  0  1/2⎥           ⎟\n",
       "⎜⎢            ⎥           ⎟\n",
       "⎜⎢0  0  1   1 ⎥, (0, 1, 2)⎟\n",
       "⎜⎢            ⎥           ⎟\n",
       "⎜⎢0  0  0   0 ⎥           ⎟\n",
       "⎜⎢            ⎥           ⎟\n",
       "⎝⎣0  0  0   0 ⎦           ⎠"
      ]
     },
     "metadata": {},
     "execution_count": 16
    }
   ],
   "metadata": {}
  },
  {
   "cell_type": "markdown",
   "source": [
    "Rank = 3, dim(w) = 3"
   ],
   "metadata": {}
  },
  {
   "cell_type": "code",
   "execution_count": 18,
   "source": [
    "S = [ (7, 5,-4, 3, 9), ( 4, 3,-2, 1, 5), (3, 1,-4, 7, 5), (-8,-7, 2, 3,-9)]\n",
    "A = sy.Matrix(S)\n",
    "A.rref()"
   ],
   "outputs": [
    {
     "output_type": "execute_result",
     "data": {
      "text/latex": [
       "$\\displaystyle \\left( \\left[\\begin{matrix}1 & 0 & -2 & 4 & 2\\\\0 & 1 & 2 & -5 & -1\\\\0 & 0 & 0 & 0 & 0\\\\0 & 0 & 0 & 0 & 0\\end{matrix}\\right], \\  \\left( 0, \\  1\\right)\\right)$"
      ],
      "text/plain": [
       "⎛⎡1  0  -2  4   2 ⎤        ⎞\n",
       "⎜⎢                ⎥        ⎟\n",
       "⎜⎢0  1  2   -5  -1⎥        ⎟\n",
       "⎜⎢                ⎥, (0, 1)⎟\n",
       "⎜⎢0  0  0   0   0 ⎥        ⎟\n",
       "⎜⎢                ⎥        ⎟\n",
       "⎝⎣0  0  0   0   0 ⎦        ⎠"
      ]
     },
     "metadata": {},
     "execution_count": 18
    }
   ],
   "metadata": {}
  },
  {
   "cell_type": "markdown",
   "source": [
    "Rank = 2, dim(w) = 2"
   ],
   "metadata": {}
  },
  {
   "cell_type": "code",
   "execution_count": 20,
   "source": [
    "S= [(7,5,-4,3,9),(4,3,-2, 1,5),(1,2,2,-6,0),(5,3,-4,5, 7),(4,3,-5,9,5)]\n",
    "A = sy.Matrix(S)\n",
    "A.rref()"
   ],
   "outputs": [
    {
     "output_type": "execute_result",
     "data": {
      "text/latex": [
       "$\\displaystyle \\left( \\left[\\begin{matrix}1 & 0 & 0 & - \\frac{4}{3} & 2\\\\0 & 1 & 0 & \\frac{1}{3} & -1\\\\0 & 0 & 1 & - \\frac{8}{3} & 0\\\\0 & 0 & 0 & 0 & 0\\\\0 & 0 & 0 & 0 & 0\\end{matrix}\\right], \\  \\left( 0, \\  1, \\  2\\right)\\right)$"
      ],
      "text/plain": [
       "⎛⎡1  0  0  -4/3  2 ⎤           ⎞\n",
       "⎜⎢                 ⎥           ⎟\n",
       "⎜⎢0  1  0  1/3   -1⎥           ⎟\n",
       "⎜⎢                 ⎥           ⎟\n",
       "⎜⎢0  0  1  -8/3  0 ⎥, (0, 1, 2)⎟\n",
       "⎜⎢                 ⎥           ⎟\n",
       "⎜⎢0  0  0   0    0 ⎥           ⎟\n",
       "⎜⎢                 ⎥           ⎟\n",
       "⎝⎣0  0  0   0    0 ⎦           ⎠"
      ]
     },
     "metadata": {},
     "execution_count": 20
    }
   ],
   "metadata": {}
  },
  {
   "cell_type": "markdown",
   "source": [
    "Rank = 3, dim(w) = 3"
   ],
   "metadata": {}
  },
  {
   "cell_type": "code",
   "execution_count": 13,
   "source": [
    "S =  [(7, 5,-4, 3, 9), ( 4, 3,-2, 1, 5), ( 4, 3,-5, 4, 5), ( 4, 5,-16, 9, 3), (2, 3,-7, 2, 1)]\n",
    "A = sy.Matrix(S)\n",
    "A.rref()"
   ],
   "outputs": [
    {
     "output_type": "execute_result",
     "data": {
      "text/latex": [
       "$\\displaystyle \\left( \\left[\\begin{matrix}1 & 0 & 0 & 2 & 2\\\\0 & 1 & 0 & -3 & -1\\\\0 & 0 & 1 & -1 & 0\\\\0 & 0 & 0 & 0 & 0\\\\0 & 0 & 0 & 0 & 0\\end{matrix}\\right], \\  \\left( 0, \\  1, \\  2\\right)\\right)$"
      ],
      "text/plain": [
       "⎛⎡1  0  0  2   2 ⎤           ⎞\n",
       "⎜⎢               ⎥           ⎟\n",
       "⎜⎢0  1  0  -3  -1⎥           ⎟\n",
       "⎜⎢               ⎥           ⎟\n",
       "⎜⎢0  0  1  -1  0 ⎥, (0, 1, 2)⎟\n",
       "⎜⎢               ⎥           ⎟\n",
       "⎜⎢0  0  0  0   0 ⎥           ⎟\n",
       "⎜⎢               ⎥           ⎟\n",
       "⎝⎣0  0  0  0   0 ⎦           ⎠"
      ]
     },
     "metadata": {},
     "execution_count": 13
    }
   ],
   "metadata": {}
  },
  {
   "cell_type": "markdown",
   "source": [
    "Rank = 3, dim(w) = 3"
   ],
   "metadata": {}
  },
  {
   "cell_type": "code",
   "execution_count": 22,
   "source": [
    "S = [(5,-3, 7,-4, 6, 3), (9,-7, 8,-9, 4, 7), ( 4,-5,-3,-6,-7, 5),\n",
    "(3, 2, 14, 2, 19,-2), (7,-6,-1,-7,-3, 6)]\n",
    "A = sy.Matrix(S)\n",
    "A.rref()"
   ],
   "outputs": [
    {
     "output_type": "execute_result",
     "data": {
      "text/latex": [
       "$\\displaystyle \\left( \\left[\\begin{matrix}1 & 0 & 0 & \\frac{2}{9} & \\frac{5}{3} & 0\\\\0 & 1 & 0 & \\frac{13}{9} & \\frac{7}{3} & -1\\\\0 & 0 & 1 & - \\frac{1}{9} & \\frac{2}{3} & 0\\\\0 & 0 & 0 & 0 & 0 & 0\\\\0 & 0 & 0 & 0 & 0 & 0\\end{matrix}\\right], \\  \\left( 0, \\  1, \\  2\\right)\\right)$"
      ],
      "text/plain": [
       "⎛⎡1  0  0  2/9   5/3  0 ⎤           ⎞\n",
       "⎜⎢                      ⎥           ⎟\n",
       "⎜⎢0  1  0  13/9  7/3  -1⎥           ⎟\n",
       "⎜⎢                      ⎥           ⎟\n",
       "⎜⎢0  0  1  -1/9  2/3  0 ⎥, (0, 1, 2)⎟\n",
       "⎜⎢                      ⎥           ⎟\n",
       "⎜⎢0  0  0   0     0   0 ⎥           ⎟\n",
       "⎜⎢                      ⎥           ⎟\n",
       "⎝⎣0  0  0   0     0   0 ⎦           ⎠"
      ]
     },
     "metadata": {},
     "execution_count": 22
    }
   ],
   "metadata": {}
  },
  {
   "cell_type": "markdown",
   "source": [
    "Rank = 3, dim(w) = 3"
   ],
   "metadata": {}
  },
  {
   "cell_type": "code",
   "execution_count": 28,
   "source": [
    "S = [(7,-3, 4, 2,-5, 2), (5,-2, 3, 3,-4, 1), (5,-3, 2,-8,-1, 4),\n",
    "(7,-4, 3,-9,-2, 5), (-4, 1,-3,-8, 5, 1)]\n",
    "A = sy.Matrix(S)\n",
    "A.rref()"
   ],
   "outputs": [
    {
     "output_type": "execute_result",
     "data": {
      "text/latex": [
       "$\\displaystyle \\left( \\left[\\begin{matrix}1 & 0 & 1 & 0 & -2 & -1\\\\0 & 1 & 1 & 0 & -3 & -3\\\\0 & 0 & 0 & 1 & 0 & 0\\\\0 & 0 & 0 & 0 & 0 & 0\\\\0 & 0 & 0 & 0 & 0 & 0\\end{matrix}\\right], \\  \\left( 0, \\  1, \\  3\\right)\\right)$"
      ],
      "text/plain": [
       "⎛⎡1  0  1  0  -2  -1⎤           ⎞\n",
       "⎜⎢                  ⎥           ⎟\n",
       "⎜⎢0  1  1  0  -3  -3⎥           ⎟\n",
       "⎜⎢                  ⎥           ⎟\n",
       "⎜⎢0  0  0  1  0   0 ⎥, (0, 1, 3)⎟\n",
       "⎜⎢                  ⎥           ⎟\n",
       "⎜⎢0  0  0  0  0   0 ⎥           ⎟\n",
       "⎜⎢                  ⎥           ⎟\n",
       "⎝⎣0  0  0  0  0   0 ⎦           ⎠"
      ]
     },
     "metadata": {},
     "execution_count": 28
    }
   ],
   "metadata": {}
  },
  {
   "cell_type": "markdown",
   "source": [
    "Rank = 3, dim(w) = 3"
   ],
   "metadata": {}
  },
  {
   "cell_type": "code",
   "execution_count": 30,
   "source": [
    "S = [(7,-3, 4, 2,-5, 2), (5,-2, 3, 3,-4, 1), (5,-3, 2,-8,-1, 4),\n",
    "(6,-4, 3,-9,-2, 5), (-4, 1,-3,-8, 5, 1)]\n",
    "A = sy.Matrix(S)\n",
    "A.rref()"
   ],
   "outputs": [
    {
     "output_type": "execute_result",
     "data": {
      "text/latex": [
       "$\\displaystyle \\left( \\left[\\begin{matrix}1 & 0 & 0 & 0 & 0 & 0\\\\0 & 1 & 0 & 0 & -1 & -2\\\\0 & 0 & 1 & 0 & -2 & -1\\\\0 & 0 & 0 & 1 & 0 & 0\\\\0 & 0 & 0 & 0 & 0 & 0\\end{matrix}\\right], \\  \\left( 0, \\  1, \\  2, \\  3\\right)\\right)$"
      ],
      "text/plain": [
       "⎛⎡1  0  0  0  0   0 ⎤              ⎞\n",
       "⎜⎢                  ⎥              ⎟\n",
       "⎜⎢0  1  0  0  -1  -2⎥              ⎟\n",
       "⎜⎢                  ⎥              ⎟\n",
       "⎜⎢0  0  1  0  -2  -1⎥, (0, 1, 2, 3)⎟\n",
       "⎜⎢                  ⎥              ⎟\n",
       "⎜⎢0  0  0  1  0   0 ⎥              ⎟\n",
       "⎜⎢                  ⎥              ⎟\n",
       "⎝⎣0  0  0  0  0   0 ⎦              ⎠"
      ]
     },
     "metadata": {},
     "execution_count": 30
    }
   ],
   "metadata": {}
  },
  {
   "cell_type": "markdown",
   "source": [
    "Rank = 4, dim(w) = 4"
   ],
   "metadata": {}
  },
  {
   "cell_type": "code",
   "execution_count": 32,
   "source": [
    "S = [(7,-3, 4, 2,-5, 2), (5,-2, 3, 3,-4, 1), (5,-3, 2,-8,-1, 4),\n",
    "(7,-4, 3,-9,-2, 5), (-4, 1,-3,-2, 4,-1), ( 1,-5,-4,-1, 6, 0)]\n",
    "A = sy.Matrix(S)\n",
    "A.rref()"
   ],
   "outputs": [
    {
     "output_type": "execute_result",
     "data": {
      "text/latex": [
       "$\\displaystyle \\left( \\left[\\begin{matrix}1 & 0 & 1 & 0 & - \\frac{9}{7} & \\frac{3}{7}\\\\0 & 1 & 1 & 0 & - \\frac{10}{7} & \\frac{1}{7}\\\\0 & 0 & 0 & 1 & - \\frac{1}{7} & - \\frac{2}{7}\\\\0 & 0 & 0 & 0 & 0 & 0\\\\0 & 0 & 0 & 0 & 0 & 0\\\\0 & 0 & 0 & 0 & 0 & 0\\end{matrix}\\right], \\  \\left( 0, \\  1, \\  3\\right)\\right)$"
      ],
      "text/plain": [
       "⎛⎡1  0  1  0  -9/7   3/7 ⎤           ⎞\n",
       "⎜⎢                       ⎥           ⎟\n",
       "⎜⎢0  1  1  0  -10/7  1/7 ⎥           ⎟\n",
       "⎜⎢                       ⎥           ⎟\n",
       "⎜⎢0  0  0  1  -1/7   -2/7⎥           ⎟\n",
       "⎜⎢                       ⎥, (0, 1, 3)⎟\n",
       "⎜⎢0  0  0  0    0     0  ⎥           ⎟\n",
       "⎜⎢                       ⎥           ⎟\n",
       "⎜⎢0  0  0  0    0     0  ⎥           ⎟\n",
       "⎜⎢                       ⎥           ⎟\n",
       "⎝⎣0  0  0  0    0     0  ⎦           ⎠"
      ]
     },
     "metadata": {},
     "execution_count": 32
    }
   ],
   "metadata": {}
  },
  {
   "cell_type": "markdown",
   "source": [
    "Rank = 3, dim(w) = 3"
   ],
   "metadata": {}
  },
  {
   "cell_type": "code",
   "execution_count": 34,
   "source": [
    "S = [(7,-3, 4, 2,-5, 2), (5,-2, 3, 3,-4, 1), (5,-3, 2,-8,-1, 4),\n",
    "( 8,-4, 3,-9,-2, 5), (-4, 1,-3,-2, 4,-1), ( 1,-5,-4,-1, 6, 0)]\n",
    "A = sy.Matrix(S)\n",
    "A.rref()"
   ],
   "outputs": [
    {
     "output_type": "execute_result",
     "data": {
      "text/latex": [
       "$\\displaystyle \\left( \\left[\\begin{matrix}1 & 0 & 0 & 0 & 0 & 0\\\\0 & 1 & 0 & 0 & - \\frac{1}{7} & - \\frac{2}{7}\\\\0 & 0 & 1 & 0 & - \\frac{9}{7} & \\frac{3}{7}\\\\0 & 0 & 0 & 1 & - \\frac{1}{7} & - \\frac{2}{7}\\\\0 & 0 & 0 & 0 & 0 & 0\\\\0 & 0 & 0 & 0 & 0 & 0\\end{matrix}\\right], \\  \\left( 0, \\  1, \\  2, \\  3\\right)\\right)$"
      ],
      "text/plain": [
       "⎛⎡1  0  0  0   0     0  ⎤              ⎞\n",
       "⎜⎢                      ⎥              ⎟\n",
       "⎜⎢0  1  0  0  -1/7  -2/7⎥              ⎟\n",
       "⎜⎢                      ⎥              ⎟\n",
       "⎜⎢0  0  1  0  -9/7  3/7 ⎥              ⎟\n",
       "⎜⎢                      ⎥, (0, 1, 2, 3)⎟\n",
       "⎜⎢0  0  0  1  -1/7  -2/7⎥              ⎟\n",
       "⎜⎢                      ⎥              ⎟\n",
       "⎜⎢0  0  0  0   0     0  ⎥              ⎟\n",
       "⎜⎢                      ⎥              ⎟\n",
       "⎝⎣0  0  0  0   0     0  ⎦              ⎠"
      ]
     },
     "metadata": {},
     "execution_count": 34
    }
   ],
   "metadata": {}
  },
  {
   "cell_type": "markdown",
   "source": [
    "Rank = 4, dim(w) = 4"
   ],
   "metadata": {}
  },
  {
   "cell_type": "code",
   "execution_count": 35,
   "source": [
    "S = [(7,-3, 4, 2,-5, 2), (5,-2, 3, 3,-4, 1), (5,-3, 2,-8,-1, 3),\n",
    "(8,-4, 3,-9,-2, 5), (-4, 1,-3,-2, 4,-1), ( 1,-5,-4,-1, 6, 0)]\n",
    "A = sy.Matrix(S)\n",
    "A.rref()"
   ],
   "outputs": [
    {
     "output_type": "execute_result",
     "data": {
      "text/latex": [
       "$\\displaystyle \\left( \\left[\\begin{matrix}1 & 0 & 0 & 0 & 0 & 0\\\\0 & 1 & 0 & 0 & - \\frac{1}{7} & 0\\\\0 & 0 & 1 & 0 & - \\frac{9}{7} & 0\\\\0 & 0 & 0 & 1 & - \\frac{1}{7} & 0\\\\0 & 0 & 0 & 0 & 0 & 1\\\\0 & 0 & 0 & 0 & 0 & 0\\end{matrix}\\right], \\  \\left( 0, \\  1, \\  2, \\  3, \\  5\\right)\\right)$"
      ],
      "text/plain": [
       "⎛⎡1  0  0  0   0    0⎤                 ⎞\n",
       "⎜⎢                   ⎥                 ⎟\n",
       "⎜⎢0  1  0  0  -1/7  0⎥                 ⎟\n",
       "⎜⎢                   ⎥                 ⎟\n",
       "⎜⎢0  0  1  0  -9/7  0⎥                 ⎟\n",
       "⎜⎢                   ⎥, (0, 1, 2, 3, 5)⎟\n",
       "⎜⎢0  0  0  1  -1/7  0⎥                 ⎟\n",
       "⎜⎢                   ⎥                 ⎟\n",
       "⎜⎢0  0  0  0   0    1⎥                 ⎟\n",
       "⎜⎢                   ⎥                 ⎟\n",
       "⎝⎣0  0  0  0   0    0⎦                 ⎠"
      ]
     },
     "metadata": {},
     "execution_count": 35
    }
   ],
   "metadata": {}
  },
  {
   "cell_type": "markdown",
   "source": [
    "Rank = 5, dim(w) = 5"
   ],
   "metadata": {}
  }
 ],
 "metadata": {
  "orig_nbformat": 4,
  "language_info": {
   "name": "python",
   "version": "3.8.5",
   "mimetype": "text/x-python",
   "codemirror_mode": {
    "name": "ipython",
    "version": 3
   },
   "pygments_lexer": "ipython3",
   "nbconvert_exporter": "python",
   "file_extension": ".py"
  },
  "kernelspec": {
   "name": "python3",
   "display_name": "Python 3.8.5 64-bit"
  },
  "interpreter": {
   "hash": "916dbcbb3f70747c44a77c7bcd40155683ae19c65e1c03b4aa3499c5328201f1"
  }
 },
 "nbformat": 4,
 "nbformat_minor": 2
}
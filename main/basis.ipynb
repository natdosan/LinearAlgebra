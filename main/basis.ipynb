{
 "cells": [
  {
   "cell_type": "code",
   "execution_count": 1,
   "source": [
    "import matplotlib.pyplot as plt\n",
    "import numpy as np\n",
    "from mpl_toolkits.mplot3d import Axes3D\n",
    "import sympy as sy\n",
    "sy.init_printing()"
   ],
   "outputs": [],
   "metadata": {}
  },
  {
   "cell_type": "markdown",
   "source": [
    "Using technology to compute rrefs for 2.2 Homework. "
   ],
   "metadata": {}
  },
  {
   "cell_type": "code",
   "execution_count": 2,
   "source": [
    "A = sy.Matrix([[5,-3,6,7],(3,-1, 4, 5), (5, 1, 8, 11), (1, 5, 4, 7)])\n",
    "A.rref()"
   ],
   "outputs": [
    {
     "output_type": "stream",
     "name": "stderr",
     "text": [
      "/home/nateackerman/.local/lib/python3.8/site-packages/IPython/lib/latextools.py:126: MatplotlibDeprecationWarning: \n",
      "The to_png function was deprecated in Matplotlib 3.4 and will be removed two minor releases later. Use mathtext.math_to_image instead.\n",
      "  mt.to_png(f, s, fontsize=12, dpi=dpi, color=color)\n",
      "/home/nateackerman/.local/lib/python3.8/site-packages/IPython/lib/latextools.py:126: MatplotlibDeprecationWarning: \n",
      "The to_rgba function was deprecated in Matplotlib 3.4 and will be removed two minor releases later. Use mathtext.math_to_image instead.\n",
      "  mt.to_png(f, s, fontsize=12, dpi=dpi, color=color)\n",
      "/home/nateackerman/.local/lib/python3.8/site-packages/IPython/lib/latextools.py:126: MatplotlibDeprecationWarning: \n",
      "The to_mask function was deprecated in Matplotlib 3.4 and will be removed two minor releases later. Use mathtext.math_to_image instead.\n",
      "  mt.to_png(f, s, fontsize=12, dpi=dpi, color=color)\n",
      "/home/nateackerman/.local/lib/python3.8/site-packages/IPython/lib/latextools.py:126: MatplotlibDeprecationWarning: \n",
      "The MathtextBackendBitmap class was deprecated in Matplotlib 3.4 and will be removed two minor releases later. Use mathtext.math_to_image instead.\n",
      "  mt.to_png(f, s, fontsize=12, dpi=dpi, color=color)\n"
     ]
    },
    {
     "output_type": "execute_result",
     "data": {
      "text/latex": [
       "$\\displaystyle \\left( \\left[\\begin{matrix}1 & 0 & \\frac{3}{2} & 2\\\\0 & 1 & \\frac{1}{2} & 1\\\\0 & 0 & 0 & 0\\\\0 & 0 & 0 & 0\\end{matrix}\\right], \\  \\left( 0, \\  1\\right)\\right)$"
      ],
      "text/plain": [
       "⎛⎡1  0  3/2  2⎤        ⎞\n",
       "⎜⎢            ⎥        ⎟\n",
       "⎜⎢0  1  1/2  1⎥        ⎟\n",
       "⎜⎢            ⎥, (0, 1)⎟\n",
       "⎜⎢0  0   0   0⎥        ⎟\n",
       "⎜⎢            ⎥        ⎟\n",
       "⎝⎣0  0   0   0⎦        ⎠"
      ]
     },
     "metadata": {},
     "execution_count": 2
    }
   ],
   "metadata": {}
  },
  {
   "cell_type": "markdown",
   "source": [
    "Rank = 2, dim(w) = 2"
   ],
   "metadata": {}
  },
  {
   "cell_type": "code",
   "execution_count": 3,
   "source": [
    "B = sy.Matrix([(5,-3,6, 7),(3,-1,4,5),(7,-9,6,5),(5, 1,8,-3) ])\n",
    "B.rref()"
   ],
   "outputs": [
    {
     "output_type": "execute_result",
     "data": {
      "text/latex": [
       "$\\displaystyle \\left( \\left[\\begin{matrix}1 & 0 & \\frac{3}{2} & 0\\\\0 & 1 & \\frac{1}{2} & 0\\\\0 & 0 & 0 & 1\\\\0 & 0 & 0 & 0\\end{matrix}\\right], \\  \\left( 0, \\  1, \\  3\\right)\\right)$"
      ],
      "text/plain": [
       "⎛⎡1  0  3/2  0⎤           ⎞\n",
       "⎜⎢            ⎥           ⎟\n",
       "⎜⎢0  1  1/2  0⎥           ⎟\n",
       "⎜⎢            ⎥, (0, 1, 3)⎟\n",
       "⎜⎢0  0   0   1⎥           ⎟\n",
       "⎜⎢            ⎥           ⎟\n",
       "⎝⎣0  0   0   0⎦           ⎠"
      ]
     },
     "metadata": {},
     "execution_count": 3
    }
   ],
   "metadata": {}
  },
  {
   "cell_type": "markdown",
   "source": [
    "Rank = 3, dim(w) = 3"
   ],
   "metadata": {}
  },
  {
   "cell_type": "code",
   "execution_count": 4,
   "source": [
    "S = [(5,-3,6, 7),(3,-1,4,5),(7,-5,8,9),(1,3,-1, 1),(1,3,-9,-7)]\n",
    "C = sy.Matrix(S)\n",
    "C.rref()"
   ],
   "outputs": [
    {
     "output_type": "execute_result",
     "data": {
      "text/latex": [
       "$\\displaystyle \\left( \\left[\\begin{matrix}1 & 0 & 0 & \\frac{1}{2}\\\\0 & 1 & 0 & \\frac{1}{2}\\\\0 & 0 & 1 & 1\\\\0 & 0 & 0 & 0\\\\0 & 0 & 0 & 0\\end{matrix}\\right], \\  \\left( 0, \\  1, \\  2\\right)\\right)$"
      ],
      "text/plain": [
       "⎛⎡1  0  0  1/2⎤           ⎞\n",
       "⎜⎢            ⎥           ⎟\n",
       "⎜⎢0  1  0  1/2⎥           ⎟\n",
       "⎜⎢            ⎥           ⎟\n",
       "⎜⎢0  0  1   1 ⎥, (0, 1, 2)⎟\n",
       "⎜⎢            ⎥           ⎟\n",
       "⎜⎢0  0  0   0 ⎥           ⎟\n",
       "⎜⎢            ⎥           ⎟\n",
       "⎝⎣0  0  0   0 ⎦           ⎠"
      ]
     },
     "metadata": {},
     "execution_count": 4
    }
   ],
   "metadata": {}
  },
  {
   "cell_type": "markdown",
   "source": [
    "Rank = 3, dim(w) = 3"
   ],
   "metadata": {}
  },
  {
   "cell_type": "code",
   "execution_count": 5,
   "source": [
    "S = [ (7, 5,-4, 3, 9), ( 4, 3,-2, 1, 5), (3, 1,-4, 7, 5), (-8,-7, 2, 3,-9)]\n",
    "D = sy.Matrix(S)\n",
    "D.rref()"
   ],
   "outputs": [
    {
     "output_type": "execute_result",
     "data": {
      "text/latex": [
       "$\\displaystyle \\left( \\left[\\begin{matrix}1 & 0 & -2 & 4 & 2\\\\0 & 1 & 2 & -5 & -1\\\\0 & 0 & 0 & 0 & 0\\\\0 & 0 & 0 & 0 & 0\\end{matrix}\\right], \\  \\left( 0, \\  1\\right)\\right)$"
      ],
      "text/plain": [
       "⎛⎡1  0  -2  4   2 ⎤        ⎞\n",
       "⎜⎢                ⎥        ⎟\n",
       "⎜⎢0  1  2   -5  -1⎥        ⎟\n",
       "⎜⎢                ⎥, (0, 1)⎟\n",
       "⎜⎢0  0  0   0   0 ⎥        ⎟\n",
       "⎜⎢                ⎥        ⎟\n",
       "⎝⎣0  0  0   0   0 ⎦        ⎠"
      ]
     },
     "metadata": {},
     "execution_count": 5
    }
   ],
   "metadata": {}
  },
  {
   "cell_type": "markdown",
   "source": [
    "Rank = 2, dim(w) = 2"
   ],
   "metadata": {}
  },
  {
   "cell_type": "code",
   "execution_count": 6,
   "source": [
    "S= [(7,5,-4,3,9),(4,3,-2, 1,5),(1,2,2,-6,0),(5,3,-4,5, 7),(4,3,-5,9,5)]\n",
    "E = sy.Matrix(S)\n",
    "E.rref()"
   ],
   "outputs": [
    {
     "output_type": "execute_result",
     "data": {
      "text/latex": [
       "$\\displaystyle \\left( \\left[\\begin{matrix}1 & 0 & 0 & - \\frac{4}{3} & 2\\\\0 & 1 & 0 & \\frac{1}{3} & -1\\\\0 & 0 & 1 & - \\frac{8}{3} & 0\\\\0 & 0 & 0 & 0 & 0\\\\0 & 0 & 0 & 0 & 0\\end{matrix}\\right], \\  \\left( 0, \\  1, \\  2\\right)\\right)$"
      ],
      "text/plain": [
       "⎛⎡1  0  0  -4/3  2 ⎤           ⎞\n",
       "⎜⎢                 ⎥           ⎟\n",
       "⎜⎢0  1  0  1/3   -1⎥           ⎟\n",
       "⎜⎢                 ⎥           ⎟\n",
       "⎜⎢0  0  1  -8/3  0 ⎥, (0, 1, 2)⎟\n",
       "⎜⎢                 ⎥           ⎟\n",
       "⎜⎢0  0  0   0    0 ⎥           ⎟\n",
       "⎜⎢                 ⎥           ⎟\n",
       "⎝⎣0  0  0   0    0 ⎦           ⎠"
      ]
     },
     "metadata": {},
     "execution_count": 6
    }
   ],
   "metadata": {}
  },
  {
   "cell_type": "markdown",
   "source": [
    "Rank = 3, dim(w) = 3"
   ],
   "metadata": {}
  },
  {
   "cell_type": "code",
   "execution_count": 7,
   "source": [
    "S =  [(7, 5,-4, 3, 9), ( 4, 3,-2, 1, 5), ( 4, 3,-5, 4, 5), ( 4, 5,-16, 9, 3), (2, 3,-7, 2, 1)]\n",
    "F = sy.Matrix(S)\n",
    "F.rref()"
   ],
   "outputs": [
    {
     "output_type": "execute_result",
     "data": {
      "text/latex": [
       "$\\displaystyle \\left( \\left[\\begin{matrix}1 & 0 & 0 & 2 & 2\\\\0 & 1 & 0 & -3 & -1\\\\0 & 0 & 1 & -1 & 0\\\\0 & 0 & 0 & 0 & 0\\\\0 & 0 & 0 & 0 & 0\\end{matrix}\\right], \\  \\left( 0, \\  1, \\  2\\right)\\right)$"
      ],
      "text/plain": [
       "⎛⎡1  0  0  2   2 ⎤           ⎞\n",
       "⎜⎢               ⎥           ⎟\n",
       "⎜⎢0  1  0  -3  -1⎥           ⎟\n",
       "⎜⎢               ⎥           ⎟\n",
       "⎜⎢0  0  1  -1  0 ⎥, (0, 1, 2)⎟\n",
       "⎜⎢               ⎥           ⎟\n",
       "⎜⎢0  0  0  0   0 ⎥           ⎟\n",
       "⎜⎢               ⎥           ⎟\n",
       "⎝⎣0  0  0  0   0 ⎦           ⎠"
      ]
     },
     "metadata": {},
     "execution_count": 7
    }
   ],
   "metadata": {}
  },
  {
   "cell_type": "markdown",
   "source": [
    "Rank = 3, dim(w) = 3"
   ],
   "metadata": {}
  },
  {
   "cell_type": "code",
   "execution_count": 8,
   "source": [
    "S = [(5,-3, 7,-4, 6, 3), (9,-7, 8,-9, 4, 7), ( 4,-5,-3,-6,-7, 5),\n",
    "(3, 2, 14, 2, 19,-2), (7,-6,-1,-7,-3, 6)]\n",
    "G = sy.Matrix(S)\n",
    "G.rref()"
   ],
   "outputs": [
    {
     "output_type": "execute_result",
     "data": {
      "text/latex": [
       "$\\displaystyle \\left( \\left[\\begin{matrix}1 & 0 & 0 & \\frac{2}{9} & \\frac{5}{3} & 0\\\\0 & 1 & 0 & \\frac{13}{9} & \\frac{7}{3} & -1\\\\0 & 0 & 1 & - \\frac{1}{9} & \\frac{2}{3} & 0\\\\0 & 0 & 0 & 0 & 0 & 0\\\\0 & 0 & 0 & 0 & 0 & 0\\end{matrix}\\right], \\  \\left( 0, \\  1, \\  2\\right)\\right)$"
      ],
      "text/plain": [
       "⎛⎡1  0  0  2/9   5/3  0 ⎤           ⎞\n",
       "⎜⎢                      ⎥           ⎟\n",
       "⎜⎢0  1  0  13/9  7/3  -1⎥           ⎟\n",
       "⎜⎢                      ⎥           ⎟\n",
       "⎜⎢0  0  1  -1/9  2/3  0 ⎥, (0, 1, 2)⎟\n",
       "⎜⎢                      ⎥           ⎟\n",
       "⎜⎢0  0  0   0     0   0 ⎥           ⎟\n",
       "⎜⎢                      ⎥           ⎟\n",
       "⎝⎣0  0  0   0     0   0 ⎦           ⎠"
      ]
     },
     "metadata": {},
     "execution_count": 8
    }
   ],
   "metadata": {}
  },
  {
   "cell_type": "markdown",
   "source": [
    "Rank = 3, dim(w) = 3"
   ],
   "metadata": {}
  },
  {
   "cell_type": "code",
   "execution_count": 9,
   "source": [
    "S = [(7,-3, 4, 2,-5, 2), (5,-2, 3, 3,-4, 1), (5,-3, 2,-8,-1, 4),\n",
    "(7,-4, 3,-9,-2, 5), (-4, 1,-3,-8, 5, 1)]\n",
    "H = sy.Matrix(S)\n",
    "H.rref()"
   ],
   "outputs": [
    {
     "output_type": "execute_result",
     "data": {
      "text/latex": [
       "$\\displaystyle \\left( \\left[\\begin{matrix}1 & 0 & 1 & 0 & -2 & -1\\\\0 & 1 & 1 & 0 & -3 & -3\\\\0 & 0 & 0 & 1 & 0 & 0\\\\0 & 0 & 0 & 0 & 0 & 0\\\\0 & 0 & 0 & 0 & 0 & 0\\end{matrix}\\right], \\  \\left( 0, \\  1, \\  3\\right)\\right)$"
      ],
      "text/plain": [
       "⎛⎡1  0  1  0  -2  -1⎤           ⎞\n",
       "⎜⎢                  ⎥           ⎟\n",
       "⎜⎢0  1  1  0  -3  -3⎥           ⎟\n",
       "⎜⎢                  ⎥           ⎟\n",
       "⎜⎢0  0  0  1  0   0 ⎥, (0, 1, 3)⎟\n",
       "⎜⎢                  ⎥           ⎟\n",
       "⎜⎢0  0  0  0  0   0 ⎥           ⎟\n",
       "⎜⎢                  ⎥           ⎟\n",
       "⎝⎣0  0  0  0  0   0 ⎦           ⎠"
      ]
     },
     "metadata": {},
     "execution_count": 9
    }
   ],
   "metadata": {}
  },
  {
   "cell_type": "markdown",
   "source": [
    "Rank = 3, dim(w) = 3"
   ],
   "metadata": {}
  },
  {
   "cell_type": "code",
   "execution_count": 10,
   "source": [
    "S = [(7,-3, 4, 2,-5, 2), (5,-2, 3, 3,-4, 1), (5,-3, 2,-8,-1, 4),\n",
    "(6,-4, 3,-9,-2, 5), (-4, 1,-3,-8, 5, 1)]\n",
    "I = sy.Matrix(S)\n",
    "I.rref()"
   ],
   "outputs": [
    {
     "output_type": "execute_result",
     "data": {
      "text/latex": [
       "$\\displaystyle \\left( \\left[\\begin{matrix}1 & 0 & 0 & 0 & 0 & 0\\\\0 & 1 & 0 & 0 & -1 & -2\\\\0 & 0 & 1 & 0 & -2 & -1\\\\0 & 0 & 0 & 1 & 0 & 0\\\\0 & 0 & 0 & 0 & 0 & 0\\end{matrix}\\right], \\  \\left( 0, \\  1, \\  2, \\  3\\right)\\right)$"
      ],
      "text/plain": [
       "⎛⎡1  0  0  0  0   0 ⎤              ⎞\n",
       "⎜⎢                  ⎥              ⎟\n",
       "⎜⎢0  1  0  0  -1  -2⎥              ⎟\n",
       "⎜⎢                  ⎥              ⎟\n",
       "⎜⎢0  0  1  0  -2  -1⎥, (0, 1, 2, 3)⎟\n",
       "⎜⎢                  ⎥              ⎟\n",
       "⎜⎢0  0  0  1  0   0 ⎥              ⎟\n",
       "⎜⎢                  ⎥              ⎟\n",
       "⎝⎣0  0  0  0  0   0 ⎦              ⎠"
      ]
     },
     "metadata": {},
     "execution_count": 10
    }
   ],
   "metadata": {}
  },
  {
   "cell_type": "markdown",
   "source": [
    "Rank = 4, dim(w) = 4"
   ],
   "metadata": {}
  },
  {
   "cell_type": "code",
   "execution_count": 11,
   "source": [
    "S = [(7,-3, 4, 2,-5, 2), (5,-2, 3, 3,-4, 1), (5,-3, 2,-8,-1, 4),\n",
    "(7,-4, 3,-9,-2, 5), (-4, 1,-3,-2, 4,-1), ( 1,-5,-4,-1, 6, 0)]\n",
    "J = sy.Matrix(S)\n",
    "J.rref()"
   ],
   "outputs": [
    {
     "output_type": "execute_result",
     "data": {
      "text/latex": [
       "$\\displaystyle \\left( \\left[\\begin{matrix}1 & 0 & 1 & 0 & - \\frac{9}{7} & \\frac{3}{7}\\\\0 & 1 & 1 & 0 & - \\frac{10}{7} & \\frac{1}{7}\\\\0 & 0 & 0 & 1 & - \\frac{1}{7} & - \\frac{2}{7}\\\\0 & 0 & 0 & 0 & 0 & 0\\\\0 & 0 & 0 & 0 & 0 & 0\\\\0 & 0 & 0 & 0 & 0 & 0\\end{matrix}\\right], \\  \\left( 0, \\  1, \\  3\\right)\\right)$"
      ],
      "text/plain": [
       "⎛⎡1  0  1  0  -9/7   3/7 ⎤           ⎞\n",
       "⎜⎢                       ⎥           ⎟\n",
       "⎜⎢0  1  1  0  -10/7  1/7 ⎥           ⎟\n",
       "⎜⎢                       ⎥           ⎟\n",
       "⎜⎢0  0  0  1  -1/7   -2/7⎥           ⎟\n",
       "⎜⎢                       ⎥, (0, 1, 3)⎟\n",
       "⎜⎢0  0  0  0    0     0  ⎥           ⎟\n",
       "⎜⎢                       ⎥           ⎟\n",
       "⎜⎢0  0  0  0    0     0  ⎥           ⎟\n",
       "⎜⎢                       ⎥           ⎟\n",
       "⎝⎣0  0  0  0    0     0  ⎦           ⎠"
      ]
     },
     "metadata": {},
     "execution_count": 11
    }
   ],
   "metadata": {}
  },
  {
   "cell_type": "markdown",
   "source": [
    "Rank = 3, dim(w) = 3"
   ],
   "metadata": {}
  },
  {
   "cell_type": "code",
   "execution_count": 12,
   "source": [
    "S = [(7,-3, 4, 2,-5, 2), (5,-2, 3, 3,-4, 1), (5,-3, 2,-8,-1, 4),\n",
    "( 8,-4, 3,-9,-2, 5), (-4, 1,-3,-2, 4,-1), ( 1,-5,-4,-1, 6, 0)]\n",
    "K = sy.Matrix(S)\n",
    "K.rref()"
   ],
   "outputs": [
    {
     "output_type": "execute_result",
     "data": {
      "text/latex": [
       "$\\displaystyle \\left( \\left[\\begin{matrix}1 & 0 & 0 & 0 & 0 & 0\\\\0 & 1 & 0 & 0 & - \\frac{1}{7} & - \\frac{2}{7}\\\\0 & 0 & 1 & 0 & - \\frac{9}{7} & \\frac{3}{7}\\\\0 & 0 & 0 & 1 & - \\frac{1}{7} & - \\frac{2}{7}\\\\0 & 0 & 0 & 0 & 0 & 0\\\\0 & 0 & 0 & 0 & 0 & 0\\end{matrix}\\right], \\  \\left( 0, \\  1, \\  2, \\  3\\right)\\right)$"
      ],
      "text/plain": [
       "⎛⎡1  0  0  0   0     0  ⎤              ⎞\n",
       "⎜⎢                      ⎥              ⎟\n",
       "⎜⎢0  1  0  0  -1/7  -2/7⎥              ⎟\n",
       "⎜⎢                      ⎥              ⎟\n",
       "⎜⎢0  0  1  0  -9/7  3/7 ⎥              ⎟\n",
       "⎜⎢                      ⎥, (0, 1, 2, 3)⎟\n",
       "⎜⎢0  0  0  1  -1/7  -2/7⎥              ⎟\n",
       "⎜⎢                      ⎥              ⎟\n",
       "⎜⎢0  0  0  0   0     0  ⎥              ⎟\n",
       "⎜⎢                      ⎥              ⎟\n",
       "⎝⎣0  0  0  0   0     0  ⎦              ⎠"
      ]
     },
     "metadata": {},
     "execution_count": 12
    }
   ],
   "metadata": {}
  },
  {
   "cell_type": "markdown",
   "source": [
    "Rank = 4, dim(w) = 4"
   ],
   "metadata": {}
  },
  {
   "cell_type": "code",
   "execution_count": 13,
   "source": [
    "S = [(7,-3, 4, 2,-5, 2), (5,-2, 3, 3,-4, 1), (5,-3, 2,-8,-1, 3),\n",
    "(8,-4, 3,-9,-2, 5), (-4, 1,-3,-2, 4,-1), ( 1,-5,-4,-1, 6, 0)]\n",
    "L = sy.Matrix(S)\n",
    "L.rref()"
   ],
   "outputs": [
    {
     "output_type": "execute_result",
     "data": {
      "text/latex": [
       "$\\displaystyle \\left( \\left[\\begin{matrix}1 & 0 & 0 & 0 & 0 & 0\\\\0 & 1 & 0 & 0 & - \\frac{1}{7} & 0\\\\0 & 0 & 1 & 0 & - \\frac{9}{7} & 0\\\\0 & 0 & 0 & 1 & - \\frac{1}{7} & 0\\\\0 & 0 & 0 & 0 & 0 & 1\\\\0 & 0 & 0 & 0 & 0 & 0\\end{matrix}\\right], \\  \\left( 0, \\  1, \\  2, \\  3, \\  5\\right)\\right)$"
      ],
      "text/plain": [
       "⎛⎡1  0  0  0   0    0⎤                 ⎞\n",
       "⎜⎢                   ⎥                 ⎟\n",
       "⎜⎢0  1  0  0  -1/7  0⎥                 ⎟\n",
       "⎜⎢                   ⎥                 ⎟\n",
       "⎜⎢0  0  1  0  -9/7  0⎥                 ⎟\n",
       "⎜⎢                   ⎥, (0, 1, 2, 3, 5)⎟\n",
       "⎜⎢0  0  0  1  -1/7  0⎥                 ⎟\n",
       "⎜⎢                   ⎥                 ⎟\n",
       "⎜⎢0  0  0  0   0    1⎥                 ⎟\n",
       "⎜⎢                   ⎥                 ⎟\n",
       "⎝⎣0  0  0  0   0    0⎦                 ⎠"
      ]
     },
     "metadata": {},
     "execution_count": 13
    }
   ],
   "metadata": {}
  },
  {
   "cell_type": "markdown",
   "source": [
    "Rank = 5, dim(w) = 5"
   ],
   "metadata": {}
  },
  {
   "cell_type": "markdown",
   "source": [
    "Using the Minimizing Theorem to find a basis for the subspace W = Span(S) for the set S.\n",
    "\n",
    "Let S = { [5,-3,6,7], [3,-1,4,5], [7,-5,8,9], [1,3,-1,1], [1,3,-9,-7] }"
   ],
   "metadata": {}
  },
  {
   "cell_type": "code",
   "execution_count": 14,
   "source": [
    "S = [(5,-3,6,7), (3,-1,4,5), (7,-5,8,9), (1,3,-1,1), (1,3,-9,-7)]\n",
    "M = sy.Matrix(S)\n",
    "M.rref()"
   ],
   "outputs": [
    {
     "output_type": "execute_result",
     "data": {
      "text/latex": [
       "$\\displaystyle \\left( \\left[\\begin{matrix}1 & 0 & 0 & \\frac{1}{2}\\\\0 & 1 & 0 & \\frac{1}{2}\\\\0 & 0 & 1 & 1\\\\0 & 0 & 0 & 0\\\\0 & 0 & 0 & 0\\end{matrix}\\right], \\  \\left( 0, \\  1, \\  2\\right)\\right)$"
      ],
      "text/plain": [
       "⎛⎡1  0  0  1/2⎤           ⎞\n",
       "⎜⎢            ⎥           ⎟\n",
       "⎜⎢0  1  0  1/2⎥           ⎟\n",
       "⎜⎢            ⎥           ⎟\n",
       "⎜⎢0  0  1   1 ⎥, (0, 1, 2)⎟\n",
       "⎜⎢            ⎥           ⎟\n",
       "⎜⎢0  0  0   0 ⎥           ⎟\n",
       "⎜⎢            ⎥           ⎟\n",
       "⎝⎣0  0  0   0 ⎦           ⎠"
      ]
     },
     "metadata": {},
     "execution_count": 14
    }
   ],
   "metadata": {}
  },
  {
   "cell_type": "markdown",
   "source": [
    "Here, the rank is 3, and dim(w) = 3.\n",
    "\n",
    "The basis of W (the subspace of the given Span, S) is { [5, -3, 6, 7], [3, -1, 4, 5], [1, 3,-1 , 1]}"
   ],
   "metadata": {}
  },
  {
   "cell_type": "markdown",
   "source": [],
   "metadata": {}
  }
 ],
 "metadata": {
  "orig_nbformat": 4,
  "language_info": {
   "name": "python",
   "version": "3.8.5",
   "mimetype": "text/x-python",
   "codemirror_mode": {
    "name": "ipython",
    "version": 3
   },
   "pygments_lexer": "ipython3",
   "nbconvert_exporter": "python",
   "file_extension": ".py"
  },
  "kernelspec": {
   "name": "python3",
   "display_name": "Python 3.8.5 64-bit"
  },
  "interpreter": {
   "hash": "916dbcbb3f70747c44a77c7bcd40155683ae19c65e1c03b4aa3499c5328201f1"
  }
 },
 "nbformat": 4,
 "nbformat_minor": 2
}